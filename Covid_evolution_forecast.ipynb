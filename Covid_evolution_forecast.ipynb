{
  "nbformat": 4,
  "nbformat_minor": 0,
  "metadata": {
    "colab": {
      "provenance": [],
      "collapsed_sections": []
    },
    "kernelspec": {
      "name": "python3",
      "display_name": "Python 3"
    },
    "language_info": {
      "name": "python"
    }
  },
  "cells": [
    {
      "cell_type": "code",
      "execution_count": null,
      "metadata": {
        "id": "XtE_IOcpxpoy"
      },
      "outputs": [],
      "source": [
        "import pandas as pd\n",
        "import numpy as np\n",
        "from datetime import datetime\n",
        "import plotly.express as px\n",
        "import plotly.graph_objects as go"
      ]
    },
    {
      "cell_type": "code",
      "source": [
        "df = pd.read_csv('/content/drive/MyDrive/covid_19_data.csv', parse_dates=['ObservationDate', 'Last Update'])"
      ],
      "metadata": {
        "id": "FrQ0Xf6nyI4l"
      },
      "execution_count": null,
      "outputs": []
    },
    {
      "cell_type": "code",
      "source": [
        "df"
      ],
      "metadata": {
        "id": "CILasezuyMyt"
      },
      "execution_count": null,
      "outputs": []
    },
    {
      "cell_type": "code",
      "source": [
        "df.dtypes"
      ],
      "metadata": {
        "id": "E_DdDMPmyQ-S"
      },
      "execution_count": null,
      "outputs": []
    },
    {
      "cell_type": "markdown",
      "source": [
        "# padronizando nome das colunas"
      ],
      "metadata": {
        "id": "ztwc94HlyYw2"
      }
    },
    {
      "cell_type": "code",
      "source": [
        "import re \n",
        "\n",
        "def corrige_colunas(col_name):\n",
        "  return re.sub(r'[/| ]', '', col_name).lower()"
      ],
      "metadata": {
        "id": "W3ZVvhiuyTQn"
      },
      "execution_count": null,
      "outputs": []
    },
    {
      "cell_type": "code",
      "source": [
        "corrige_colunas('aaBAD/P ou') # teste"
      ],
      "metadata": {
        "id": "ec_ejmJ_ydGv"
      },
      "execution_count": null,
      "outputs": []
    },
    {
      "cell_type": "code",
      "source": [
        "df.columns = [corrige_colunas(col) for col in df.columns]"
      ],
      "metadata": {
        "id": "oGDvjO3Vyful"
      },
      "execution_count": null,
      "outputs": []
    },
    {
      "cell_type": "code",
      "source": [
        "df"
      ],
      "metadata": {
        "id": "T-xlsOGxyh1r"
      },
      "execution_count": null,
      "outputs": []
    },
    {
      "cell_type": "markdown",
      "source": [
        "# selecionando apenas o brasil"
      ],
      "metadata": {
        "id": "Dw5Vm68fyrfd"
      }
    },
    {
      "cell_type": "code",
      "source": [
        "df.loc[df.countryregion == 'Brazil']"
      ],
      "metadata": {
        "id": "2YKnDyX0ylza"
      },
      "execution_count": null,
      "outputs": []
    },
    {
      "cell_type": "code",
      "source": [
        "brasil = df.loc[(df.countryregion == 'Brazil') & (df.confirmed > 0)]"
      ],
      "metadata": {
        "id": "IWS_7PVQyvOL"
      },
      "execution_count": null,
      "outputs": []
    },
    {
      "cell_type": "code",
      "source": [
        "brasil"
      ],
      "metadata": {
        "id": "P8eMXbG-y0eL"
      },
      "execution_count": null,
      "outputs": []
    },
    {
      "cell_type": "markdown",
      "source": [
        "# casos confirmados"
      ],
      "metadata": {
        "id": "NlL6aBNvy7jR"
      }
    },
    {
      "cell_type": "code",
      "source": [
        "px.line(brasil, 'observationdate', 'confirmed', title='Casos Confirmados no Brasil')"
      ],
      "metadata": {
        "id": "L1ud8lGKy6pF"
      },
      "execution_count": null,
      "outputs": []
    },
    {
      "cell_type": "markdown",
      "source": [
        "# novos casos por dia"
      ],
      "metadata": {
        "id": "8o8CvYT_zHKR"
      }
    },
    {
      "cell_type": "code",
      "source": [
        "brasil['novoscasos'] = list(map(lambda x: 0 if (x == 0) else brasil['confirmed'].iloc[x] - brasil['confirmed'].iloc[x - 1], np.arange(brasil.shape[0])))"
      ],
      "metadata": {
        "id": "ubTJs_dQy-hM"
      },
      "execution_count": null,
      "outputs": []
    },
    {
      "cell_type": "code",
      "source": [
        "px.line(brasil, 'observationdate', 'novoscasos', title='Novos Casos Por Dia')"
      ],
      "metadata": {
        "id": "VuWnqfmXzEAA"
      },
      "execution_count": null,
      "outputs": []
    },
    {
      "cell_type": "markdown",
      "source": [
        "# mortes"
      ],
      "metadata": {
        "id": "zsAJjSdLzPN2"
      }
    },
    {
      "cell_type": "code",
      "source": [
        "fig = go.Figure()\n",
        "fig.add_trace(go.Scatter(x = brasil.observationdate, y = brasil.deaths, name = 'Mortes', mode = 'lines+markers', line = {'color''': 'red'}))\n",
        "fig.update_layout(title = 'Mortes por COVID-19 no Brasil')\n",
        "fig.show()"
      ],
      "metadata": {
        "id": "5J4bA7VnzREa"
      },
      "execution_count": null,
      "outputs": []
    },
    {
      "cell_type": "markdown",
      "source": [
        "# taxa de crescimento"
      ],
      "metadata": {
        "id": "P5Mhl4BlzVR0"
      }
    },
    {
      "cell_type": "code",
      "source": [
        "def taxa_crescimento(data, variable, data_inicio=None, data_fim=None):\n",
        "  if data_inicio == None:\n",
        "    data_inicio = data.observationdate.loc[data[variable] > 0].min()\n",
        "  else:\n",
        "    data_inicio = pd.to_datetime(data_inicio)\n",
        "\n",
        "  if data_fim == None:\n",
        "    data_fim = data.observationdate.iloc[-1]\n",
        "  else:\n",
        "    data_fim = pd.to_datetime(data_fim)\n",
        "\n",
        "  passado = data.loc[data.observationdate == data_inicio, variable].values[0]\n",
        "  presente = data.loc[data.observationdate == data_fim, variable].values[0]\n",
        "\n",
        "  n = (data_fim - data_inicio).days\n",
        "\n",
        "  taxa = (presente/passado) ** (1/n) - 1\n",
        "\n",
        "  return taxa*100"
      ],
      "metadata": {
        "id": "__h29aT5zSM2"
      },
      "execution_count": null,
      "outputs": []
    },
    {
      "cell_type": "code",
      "source": [
        "taxa_crescimento(brasil, 'confirmed') # taxa media em todo o periodo"
      ],
      "metadata": {
        "id": "1lZIx8AfzYCw"
      },
      "execution_count": null,
      "outputs": []
    },
    {
      "cell_type": "code",
      "source": [
        "def taxa_crescimento_diario(data, variable, data_inicio=None):\n",
        "  if data_inicio == None:\n",
        "    data_inicio = data.observationdate.loc[data[variable] > 0].min()\n",
        "  else:\n",
        "    data_inicio = pd.to_datetime(data_inicio)\n",
        "\n",
        "  data_fim = data.observationdate.max()\n",
        "\n",
        "  n = (data_fim - data_inicio).days\n",
        "\n",
        "  taxas = list(map(lambda x: (data[variable].iloc[x] - data[variable].iloc[x - 1]) / data[variable].iloc[x - 1], range(1, n+1)))\n",
        "\n",
        "  return np.array(taxas) * 100"
      ],
      "metadata": {
        "id": "J5-TXBKRzbGu"
      },
      "execution_count": null,
      "outputs": []
    },
    {
      "cell_type": "code",
      "source": [
        "taxa_dia = taxa_crescimento_diario(brasil, 'confirmed')"
      ],
      "metadata": {
        "id": "dr5FEhZAzeEA"
      },
      "execution_count": null,
      "outputs": []
    },
    {
      "cell_type": "code",
      "source": [
        "taxa_dia"
      ],
      "metadata": {
        "id": "OKirbA-YzhPi"
      },
      "execution_count": null,
      "outputs": []
    },
    {
      "cell_type": "code",
      "source": [
        "primeiro_dia = brasil.observationdate.loc[brasil.confirmed > 0].min()\n",
        "\n",
        "px.line(x = pd.date_range(primeiro_dia, brasil.observationdate.max())[1:], y = taxa_dia, title = 'Taxa De Casos Confirmados No Brasil')"
      ],
      "metadata": {
        "id": "lVPaQxmgziib"
      },
      "execution_count": null,
      "outputs": []
    },
    {
      "cell_type": "markdown",
      "source": [
        "# predicoes"
      ],
      "metadata": {
        "id": "MZ70_Ihzzo8p"
      }
    },
    {
      "cell_type": "code",
      "source": [
        "from statsmodels.tsa.seasonal import seasonal_decompose\n",
        "import matplotlib.pyplot as plt"
      ],
      "metadata": {
        "id": "ACvfFvSmzlye"
      },
      "execution_count": null,
      "outputs": []
    },
    {
      "cell_type": "code",
      "source": [
        "confirmados = brasil.confirmed\n",
        "confirmados.index = brasil.observationdate\n",
        "confirmados"
      ],
      "metadata": {
        "id": "WTU75-qLzrdV"
      },
      "execution_count": null,
      "outputs": []
    },
    {
      "cell_type": "code",
      "source": [
        "res = seasonal_decompose(confirmados)"
      ],
      "metadata": {
        "id": "b9RQ0bLFzuCe"
      },
      "execution_count": null,
      "outputs": []
    },
    {
      "cell_type": "code",
      "source": [
        "fig, (ax1, ax2, ax3, ax4) = plt.subplots(4, 1, figsize=(10, 8))\n",
        "\n",
        "ax1.plot(res.observed)\n",
        "ax2.plot(res.trend)\n",
        "ax3.plot(res.seasonal)\n",
        "ax4.plot(confirmados.index, res.resid)\n",
        "ax4.axhline(0, linestyle='dashed', c='black')\n",
        "plt.show()"
      ],
      "metadata": {
        "id": "rXa5BSL_zwKQ"
      },
      "execution_count": null,
      "outputs": []
    },
    {
      "cell_type": "markdown",
      "source": [
        "# modelo arima"
      ],
      "metadata": {
        "id": "oA3UzC0Fz2Fh"
      }
    },
    {
      "cell_type": "code",
      "source": [
        "from pmdarima.arima import auto_arima\n",
        "modelo = auto_arima(confirmados)"
      ],
      "metadata": {
        "id": "6nTn2LvMzyhD"
      },
      "execution_count": null,
      "outputs": []
    },
    {
      "cell_type": "code",
      "source": [
        "fig = go.Figure(go.Scatter(x = confirmados.index, y = confirmados, name = 'Observados'))\n",
        "fig.add_trace(go.Scatter(x = confirmados.index, y = modelo.predict_in_sample(), name = 'Preditos'))\n",
        "fig.add_trace(go.Scatter(x = pd.date_range('2020-05-20', '2020-06-20'), y = modelo.predict(31), name = 'Forecast'))\n",
        "fig.update_layout(title = 'Previsao de Casos Confirmados Para os Proximos 30 dias')\n",
        "fig.show()"
      ],
      "metadata": {
        "id": "aS1nMy2az5EF"
      },
      "execution_count": null,
      "outputs": []
    },
    {
      "cell_type": "markdown",
      "source": [
        "# modelo crescimento"
      ],
      "metadata": {
        "id": "PtNr9SKbz-GM"
      }
    },
    {
      "cell_type": "code",
      "source": [
        "from fbprophet import Prophet"
      ],
      "metadata": {
        "id": "nXsgzi6hz7kf"
      },
      "execution_count": null,
      "outputs": []
    },
    {
      "cell_type": "code",
      "source": [
        "train = confirmados.reset_index()[:-5]\n",
        "test = confirmados.reset_index()[-5:]\n",
        "\n",
        "train.rename(columns = {'observationdate': 'ds', 'confirmed': 'y'}, implace = True)\n",
        "test.rename(columns = {'observationdate': 'ds', 'confirmed': 'y'}, implace = True)\n",
        "\n",
        "profeta = Prophet(growth = 'logistic', changepoints = ['2020-03-21', '2020-03-30', '2020-04-25', '2020-05-03', '2020-05-10'])\n",
        "\n",
        "pop = 211463256\n",
        "train['cap'] = pop\n",
        "\n",
        "profeta.fit(train)\n",
        "\n",
        "future_dates = profeta.make_future_dataframe(periods=200)\n",
        "future_dates['cap'] = pop\n",
        "forecast = profeta.predict(future_dates)"
      ],
      "metadata": {
        "id": "gnKOKRko0ByJ"
      },
      "execution_count": null,
      "outputs": []
    },
    {
      "cell_type": "code",
      "source": [
        "fig = go.Figure()\n",
        "\n",
        "fig.add_trace(go.Scatter(x = forecast.ds, y = forecast.yhat, name = 'Predicao'))\n",
        "fig.add_trace(go.Scatter(x = test.index, y = test, name = 'Observados - teste'))\n",
        "fig.add_trace(go.Scatter(x = train.ds, y = train.y, name = 'Observados - treino'))\n",
        "fig.update_layout(title = 'Predicoes De Casos Confirmados No Brasil')\n",
        "fig.show()"
      ],
      "metadata": {
        "id": "4BaqVC9N0E7d"
      },
      "execution_count": null,
      "outputs": []
    }
  ]
}